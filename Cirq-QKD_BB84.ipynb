{
 "cells": [
  {
   "cell_type": "code",
   "execution_count": 1,
   "metadata": {},
   "outputs": [],
   "source": [
    "import cirq\n",
    "from random import choices\n",
    "import binascii"
   ]
  },
  {
   "cell_type": "markdown",
   "metadata": {},
   "source": [
    "Here is a basic Demonstration of QKD and the Quantum Protocol BB84, whilst showing the roles of Alice, Bob, and our \"hacker\" Eve. \n",
    "------------------------------------------"
   ]
  },
  {
   "cell_type": "markdown",
   "metadata": {},
   "source": [
    "~Part 1~ Alice and Bob utilize BB84 in order to share a secret key for their channel of communication. \n",
    "---------------------------------------\n",
    "-phase 1\n",
    "1. Alice randomly Chooses Bits\n",
    "2. Alice Randomly Chooses Bases\n",
    "3. Alice creates qubits\n",
    "4. Alice sends qubits to Bob\n",
    "\n",
    "-phase 2\n",
    "\n",
    "5. Bob randomly chooses bases\n",
    "6. Bob measures the qubits\n",
    "7. Bob creates a key\n",
    "\n",
    "-phase 3\n",
    "\n",
    "8. Alice and Bob Compare Bases\n",
    "9. Alice and Bob Compare the First bits in their key"
   ]
  },
  {
   "cell_type": "code",
   "execution_count": 3,
   "metadata": {},
   "outputs": [],
   "source": [
    "#initialization \n",
    "encode_gates = {0: cirq.I, 1: cirq.X}\n",
    "basis_gates = {'Z': cirq.I, \"X\": cirq.H}\n",
    "\n",
    "num_bits = 10\n",
    "qubits = cirq.NamedQubit.range(num_bits, prefix = 'q')"
   ]
  },
  {
   "cell_type": "code",
   "execution_count": 4,
   "metadata": {},
   "outputs": [
    {
     "name": "stdout",
     "output_type": "stream",
     "text": [
      "Alice's initial key:  [0, 1, 1, 1, 1, 0, 0, 1, 0, 1]\n"
     ]
    }
   ],
   "source": [
    "# 1.\n",
    "\n",
    "alice_key = choices([0, 1], k = num_bits)\n",
    "\n",
    "print('Alice\\'s initial key: ', alice_key)"
   ]
  },
  {
   "cell_type": "code",
   "execution_count": 5,
   "metadata": {},
   "outputs": [
    {
     "name": "stdout",
     "output_type": "stream",
     "text": [
      "\n",
      "Alice's randomly chosen bases:  ['X', 'X', 'X', 'X', 'X', 'X', 'Z', 'Z', 'X', 'Z']\n"
     ]
    }
   ],
   "source": [
    "# 2.\n",
    "alice_bases = choices([\"Z\", \"X\"], k = num_bits)\n",
    "\n",
    "print('\\nAlice\\'s randomly chosen bases: ', alice_bases)"
   ]
  },
  {
   "cell_type": "code",
   "execution_count": 6,
   "metadata": {},
   "outputs": [],
   "source": [
    "# 3.\n",
    "alice_circuit = cirq.Circuit()\n",
    "\n",
    "for bit in range(num_bits):\n",
    "\n",
    "  encode_value = alice_key[bit]\n",
    "  encode_gate = encode_gates[encode_value]\n",
    "\n",
    "  basis_value = alice_bases[bit]\n",
    "  basis_gate = basis_gates[basis_value]\n",
    "\n",
    "  qubit = qubits[bit]\n",
    "  alice_circuit.append(encode_gate(qubit))\n",
    "  alice_circuit.append(basis_gate(qubit))"
   ]
  },
  {
   "cell_type": "code",
   "execution_count": 8,
   "metadata": {},
   "outputs": [
    {
     "data": {
      "text/plain": [
       "'\\nThis step is where Alice would send Bob the qubits.\\n\\n'"
      ]
     },
     "execution_count": 8,
     "metadata": {},
     "output_type": "execute_result"
    }
   ],
   "source": [
    "# 4.\n",
    "\n",
    "'''\n",
    "This step is where Alice would send Bob the qubits.\n",
    "\n",
    "'''"
   ]
  },
  {
   "cell_type": "code",
   "execution_count": 7,
   "metadata": {},
   "outputs": [],
   "source": [
    "# 5. \n",
    "bob_bases = choices([\"Z\", \"X\"], k = num_bits)\n",
    "\n",
    "\n",
    "bob_circuit = cirq.Circuit()\n",
    "\n",
    "for bit in range(num_bits):\n",
    "\n",
    "  basis_value = bob_bases[bit]\n",
    "  basis_gate = basis_gates[basis_value]\n",
    "\n",
    "  qubit = qubits[bit]\n",
    "  bob_circuit.append(basis_gate(qubit))\n"
   ]
  },
  {
   "cell_type": "code",
   "execution_count": 9,
   "metadata": {},
   "outputs": [
    {
     "name": "stdout",
     "output_type": "stream",
     "text": [
      "q0: ───H───M('Bob's key')───\n",
      "           │\n",
      "q1: ───H───M────────────────\n",
      "           │\n",
      "q2: ───H───M────────────────\n",
      "           │\n",
      "q3: ───I───M────────────────\n",
      "           │\n",
      "q4: ───H───M────────────────\n",
      "           │\n",
      "q5: ───I───M────────────────\n",
      "           │\n",
      "q6: ───H───M────────────────\n",
      "           │\n",
      "q7: ───H───M────────────────\n",
      "           │\n",
      "q8: ───I───M────────────────\n",
      "           │\n",
      "q9: ───H───M────────────────\n"
     ]
    }
   ],
   "source": [
    "# 6.\n",
    "bob_circuit.append(cirq.measure(qubits, key = \"Bob's key\"))\n",
    "\n",
    "print(bob_circuit)"
   ]
  },
  {
   "cell_type": "code",
   "execution_count": 10,
   "metadata": {},
   "outputs": [
    {
     "name": "stdout",
     "output_type": "stream",
     "text": [
      "\n",
      "Bob's initial key:  [0 1 1 0 1 1 1 0 0 1]\n"
     ]
    }
   ],
   "source": [
    "# 7. \n",
    "bb84_circuit = alice_circuit + bob_circuit\n",
    "\n",
    "sim = cirq.Simulator()\n",
    "results = sim.run(bb84_circuit)\n",
    "bob_key = results.measurements[\"Bob's key\"][0]\n",
    "\n",
    "print('\\nBob\\'s initial key: ', bob_key)"
   ]
  },
  {
   "cell_type": "code",
   "execution_count": 11,
   "metadata": {},
   "outputs": [
    {
     "name": "stdout",
     "output_type": "stream",
     "text": [
      "\n",
      "Alice's key:  [0, 1, 1, 1]\n",
      "Bob's key:  [0, 1, 1, 1]\n"
     ]
    }
   ],
   "source": [
    "# 8. \n",
    "final_alice_key = []\n",
    "final_bob_key = []\n",
    "\n",
    "for bit in range(num_bits):\n",
    "\n",
    "  if alice_bases[bit] == bob_bases[bit]:\n",
    "    final_alice_key.append(alice_key[bit])\n",
    "    final_bob_key.append(bob_key[bit])\n",
    "\n",
    "print('\\nAlice\\'s key: ', final_alice_key)\n",
    "print('Bob\\'s key: ', final_bob_key)"
   ]
  },
  {
   "cell_type": "code",
   "execution_count": 12,
   "metadata": {},
   "outputs": [
    {
     "name": "stdout",
     "output_type": "stream",
     "text": [
      "\n",
      "\n",
      "We can use our keys!\n",
      "Alice Key:  [1, 1]\n",
      "Bob Key:  [1, 1]\n"
     ]
    }
   ],
   "source": [
    "# 9. \n",
    "num_bits_to_compare = int(len(final_alice_key) * .5)\n",
    "if final_alice_key[0:num_bits_to_compare] == final_bob_key[0:num_bits_to_compare]:\n",
    "  final_alice_key = final_alice_key[num_bits_to_compare:]\n",
    "  final_bob_key = final_bob_key[num_bits_to_compare:]\n",
    "\n",
    "  print('\\n\\nWe can use our keys!')\n",
    "  print('Alice Key: ', final_alice_key)\n",
    "  print('Bob Key: ', final_bob_key)\n",
    "\n",
    "else:\n",
    "  print('\\n\\nEve was listening, we need to use a different channel!')"
   ]
  },
  {
   "cell_type": "markdown",
   "metadata": {},
   "source": [
    "~Part 2~ BB84 - Alice, Bob and Eve's Measurement Attack\n",
    "----------------------------------\n",
    " -Phase 1\n",
    "\n",
    " 1. Alice randomly chooses bits\n",
    " 2. Alice randomly chooses bases\n",
    " 3. Alice creates qubits\n",
    " 4. Alice sends the qubits to Bob\n",
    "\n",
    " -Eve Intercepts\n",
    "\n",
    " 5. Eve randomly Chooses Bases\n",
    " 6. Eve Measures the qubits\n",
    " 7. Eve Creates a Key\n",
    " 8. Eve repeats step 3 to fool Bob\n",
    "\n",
    " -Phase 2\n",
    "\n",
    " 9. Bob randomly chooses Bases\n",
    " 10. Bob measures the qubits\n",
    " 11. Bob creates a key\n",
    "\n",
    " -Phase 3\n",
    "\n",
    " 12. Alice and Bob compare bases\n",
    " 13. Alice and Bob Compare the First Bits in Their Key\n",
    "\n"
   ]
  },
  {
   "cell_type": "code",
   "execution_count": 13,
   "metadata": {},
   "outputs": [],
   "source": [
    "# Initialization\n",
    "encode_gates = {0: cirq.I, 1: cirq.X}\n",
    "basis_gates = {'Z': cirq.I, 'X': cirq.H}\n",
    "\n",
    "num_bits = 10\n",
    "qubits = cirq.NamedQubit.range(num_bits, prefix = 'q')"
   ]
  },
  {
   "cell_type": "code",
   "execution_count": 14,
   "metadata": {},
   "outputs": [
    {
     "name": "stdout",
     "output_type": "stream",
     "text": [
      "Alice's initial key:  [1, 0, 1, 1, 1, 0, 1, 0, 1, 0]\n"
     ]
    }
   ],
   "source": [
    "# 1\n",
    "alice_key = choices([0, 1], k = num_bits)\n",
    "\n",
    "print('Alice\\'s initial key: ', alice_key)"
   ]
  },
  {
   "cell_type": "code",
   "execution_count": 15,
   "metadata": {},
   "outputs": [
    {
     "name": "stdout",
     "output_type": "stream",
     "text": [
      "\n",
      "Alice's randomly chosen bases:  ['X', 'Z', 'Z', 'Z', 'Z', 'X', 'X', 'X', 'X', 'Z']\n"
     ]
    }
   ],
   "source": [
    "# 2\n",
    "alice_bases = choices(['Z', 'X'], k = num_bits)\n",
    "\n",
    "print('\\nAlice\\'s randomly chosen bases: ', alice_bases)"
   ]
  },
  {
   "cell_type": "code",
   "execution_count": 16,
   "metadata": {},
   "outputs": [
    {
     "name": "stdout",
     "output_type": "stream",
     "text": [
      "q0: ───X───H───\n",
      "\n",
      "q1: ───I───I───\n",
      "\n",
      "q2: ───X───I───\n",
      "\n",
      "q3: ───X───I───\n",
      "\n",
      "q4: ───X───I───\n",
      "\n",
      "q5: ───I───H───\n",
      "\n",
      "q6: ───X───H───\n",
      "\n",
      "q7: ───I───H───\n",
      "\n",
      "q8: ───X───H───\n",
      "\n",
      "q9: ───I───I───\n"
     ]
    }
   ],
   "source": [
    "# 3\n",
    "alice_circuit = cirq.Circuit()\n",
    "\n",
    "for bit in range(num_bits):\n",
    "\n",
    "  encode_value = alice_key[bit]\n",
    "  encode_gate = encode_gates[encode_value]\n",
    "\n",
    "  basis_value = alice_bases[bit]\n",
    "  basis_gate = basis_gates[basis_value]\n",
    "\n",
    "  qubit = qubits[bit]\n",
    "  alice_circuit.append(encode_gate(qubit))\n",
    "  alice_circuit.append(basis_gate(qubit))\n",
    "\n",
    "print(alice_circuit)"
   ]
  },
  {
   "cell_type": "code",
   "execution_count": null,
   "metadata": {},
   "outputs": [],
   "source": [
    "# 4\n",
    "'''\n",
    "Alice sends qubits to Bob\n",
    "\n",
    "'''"
   ]
  },
  {
   "cell_type": "code",
   "execution_count": 17,
   "metadata": {},
   "outputs": [],
   "source": [
    "# 5 (Eve Intercepts)\n",
    "#For this attack, Eve does not try to guess bases, so no code is required."
   ]
  },
  {
   "cell_type": "code",
   "execution_count": 20,
   "metadata": {},
   "outputs": [],
   "source": [
    "# 6\n",
    "eve_circuit = cirq.Circuit()\n",
    "eve_circuit.append(cirq.measure(qubits, key = \"Eve's key\"))"
   ]
  },
  {
   "cell_type": "code",
   "execution_count": 21,
   "metadata": {},
   "outputs": [
    {
     "name": "stdout",
     "output_type": "stream",
     "text": [
      "\n",
      "Eve's initial key:  [0 0 1 1 1 1 1 1 1 0]\n"
     ]
    }
   ],
   "source": [
    "# 7\n",
    "eve_intercept_circuit = alice_circuit + eve_circuit\n",
    "\n",
    "sim = cirq.Simulator()\n",
    "results = sim.run(eve_intercept_circuit)\n",
    "eve_key = results.measurements[\"Eve's key\"][0]\n",
    "\n",
    "print('\\nEve\\'s initial key: ', eve_key)"
   ]
  },
  {
   "cell_type": "code",
   "execution_count": 22,
   "metadata": {},
   "outputs": [
    {
     "name": "stdout",
     "output_type": "stream",
     "text": [
      "\n",
      "Alice's Phase 1 circuit after Eve's interception:\n",
      " q0: ───I───\n",
      "\n",
      "q1: ───I───\n",
      "\n",
      "q2: ───X───\n",
      "\n",
      "q3: ───X───\n",
      "\n",
      "q4: ───X───\n",
      "\n",
      "q5: ───X───\n",
      "\n",
      "q6: ───X───\n",
      "\n",
      "q7: ───X───\n",
      "\n",
      "q8: ───X───\n",
      "\n",
      "q9: ───I───\n"
     ]
    }
   ],
   "source": [
    "# 8\n",
    "alice_circuit = cirq.Circuit()\n",
    "\n",
    "for bit in range(num_bits):\n",
    "\n",
    "  encode_value = eve_key[bit]\n",
    "  encode_gate = encode_gates[encode_value]\n",
    "\n",
    "  qubit = qubits[bit]\n",
    "  alice_circuit.append(encode_gate(qubit))\n",
    "\n",
    "print('\\nAlice\\'s Phase 1 circuit after Eve\\'s interception:\\n', alice_circuit)"
   ]
  },
  {
   "cell_type": "code",
   "execution_count": 23,
   "metadata": {},
   "outputs": [],
   "source": [
    "# 9 (Bob recieves)\n",
    "bob_bases = choices([\"Z\", \"X\"], k= num_bits)\n",
    "\n",
    "\n",
    "bob_circuit = cirq.Circuit()\n",
    "\n",
    "for bit in range(num_bits):\n",
    "\n",
    "  basis_value = bob_bases[bit]\n",
    "  basis_gate = basis_gates[basis_value]\n",
    "\n",
    "  qubit = qubits[bit]\n",
    "  bob_circuit.append(basis_gate(qubit))"
   ]
  },
  {
   "cell_type": "code",
   "execution_count": 24,
   "metadata": {},
   "outputs": [
    {
     "name": "stdout",
     "output_type": "stream",
     "text": [
      "q0: ───I───M('Bob's key')───\n",
      "           │\n",
      "q1: ───H───M────────────────\n",
      "           │\n",
      "q2: ───I───M────────────────\n",
      "           │\n",
      "q3: ───I───M────────────────\n",
      "           │\n",
      "q4: ───H───M────────────────\n",
      "           │\n",
      "q5: ───H───M────────────────\n",
      "           │\n",
      "q6: ───H───M────────────────\n",
      "           │\n",
      "q7: ───H───M────────────────\n",
      "           │\n",
      "q8: ───H───M────────────────\n",
      "           │\n",
      "q9: ───I───M────────────────\n"
     ]
    }
   ],
   "source": [
    "# 10\n",
    "bob_circuit.append(cirq.measure(qubits, key= \"Bob's key\"))\n",
    "\n",
    "print(bob_circuit)"
   ]
  },
  {
   "cell_type": "code",
   "execution_count": 25,
   "metadata": {},
   "outputs": [
    {
     "name": "stdout",
     "output_type": "stream",
     "text": [
      "\n",
      "Bob's initial key:  [0 1 1 1 0 0 1 1 0 0]\n"
     ]
    }
   ],
   "source": [
    "# 11\n",
    "bb84_circuit = alice_circuit + bob_circuit\n",
    "\n",
    "sim = cirq.Simulator()\n",
    "results = sim.run(bb84_circuit)\n",
    "bob_key = results.measurements[\"Bob's key\"][0]\n",
    "\n",
    "print('\\nBob\\'s initial key: ', bob_key)"
   ]
  },
  {
   "cell_type": "code",
   "execution_count": 26,
   "metadata": {},
   "outputs": [
    {
     "name": "stdout",
     "output_type": "stream",
     "text": [
      "\n",
      "Alice's key:  [1, 1, 0, 1, 0, 1, 0]\n",
      "Bob's key:  [1, 1, 0, 1, 1, 0, 0]\n",
      "Eve's key:  [1, 1, 1, 1, 1, 1, 0]\n"
     ]
    }
   ],
   "source": [
    "# 12\n",
    "final_alice_key = []\n",
    "final_bob_key = []\n",
    "final_eve_key = []\n",
    "\n",
    "for bit in range(num_bits):\n",
    "\n",
    "  if alice_bases[bit] == bob_bases[bit]:\n",
    "    final_alice_key.append(alice_key[bit])\n",
    "    final_bob_key.append(bob_key[bit])\n",
    "    final_eve_key.append(eve_key[bit])\n",
    "\n",
    "print('\\nAlice\\'s key: ', final_alice_key)\n",
    "print('Bob\\'s key: ', final_bob_key)\n",
    "print('Eve\\'s key: ', final_eve_key)"
   ]
  },
  {
   "cell_type": "code",
   "execution_count": 27,
   "metadata": {},
   "outputs": [
    {
     "name": "stdout",
     "output_type": "stream",
     "text": [
      "\n",
      "\n",
      "We can use our keys!\n",
      "Alice Key:  [1, 0, 1, 0]\n",
      "Bob Key:  [1, 1, 0, 0]\n",
      "Eve Key:  [1, 1, 1, 0]\n"
     ]
    }
   ],
   "source": [
    "# 13\n",
    "num_bits_to_compare = int(len(final_alice_key) * .5)\n",
    "if final_alice_key[0:num_bits_to_compare] == final_bob_key[0:num_bits_to_compare]:\n",
    "  final_alice_key = final_alice_key[num_bits_to_compare:]\n",
    "  final_bob_key = final_bob_key[num_bits_to_compare:]\n",
    "  final_eve_key = final_eve_key[num_bits_to_compare:]\n",
    "\n",
    "  print('\\n\\nWe can use our keys!')\n",
    "  print('Alice Key: ', final_alice_key)\n",
    "  print('Bob Key: ', final_bob_key)\n",
    "  print('Eve Key: ', final_eve_key)\n",
    "\n",
    "else:\n",
    "  print('\\n\\nEve was listening, we need to use a different channel!')"
   ]
  },
  {
   "cell_type": "code",
   "execution_count": null,
   "metadata": {},
   "outputs": [],
   "source": [
    "'''\n",
    "You will notice that the code said that we can use our keys, however,\n",
    "we only compared the first 3 digits of the key, and thus the program believes these \n",
    "keys are valid, but after removing the qubits that were shared\n",
    "the final key between Alice and Bob are not identical therefore\n",
    "proving that Eve was listening. \n",
    "\n",
    "This is why when doing QKD: BB84, it is good measure to use a lot of qubits as opposed\n",
    "to 7-10 qubits. \n",
    "'''"
   ]
  },
  {
   "cell_type": "markdown",
   "metadata": {},
   "source": [
    "~Part 3~ Alice, Bob, and Eve's Intercept and Resend Attack\n",
    "---------------\n",
    "-Phase 1\n",
    "\n",
    "1. Alice Randomly Chooses Bits\n",
    "2. Alice Randomly Chooses Bases\n",
    "3. Alice Creates Qubits\n",
    "4. Alice sends qubits to Bob\n",
    "\n",
    "-Eve Intercepts\n",
    "\n",
    "5. Eve Randomly chooses bases\n",
    "6. Eve measures the qubits\n",
    "7. Eve creates a key\n",
    "8. Eve repeats step 3 to fool Bob then sends to Bob\n",
    "\n",
    "-Phase 2 \n",
    "\n",
    "9. Bob Randomly Chooses Bases\n",
    "10. Bob measures the qubits\n",
    "11. Bob creates a key\n",
    "\n",
    "-Phase 3\n",
    "\n",
    "12. Alice and Bob compare bases\n",
    "13. Alice and Bob compare the first bits in their key"
   ]
  },
  {
   "cell_type": "code",
   "execution_count": 28,
   "metadata": {},
   "outputs": [],
   "source": [
    "#initialization \n",
    "encode_gates = {0: cirq.I, 1: cirq.X}\n",
    "basis_gates = {\"Z\": cirq.I, \"X\": cirq.H}\n",
    "\n",
    "num_bits = 100\n",
    "qubits = cirq.NamedQubit.range(num_bits, prefix = 'q')"
   ]
  },
  {
   "cell_type": "code",
   "execution_count": 29,
   "metadata": {},
   "outputs": [
    {
     "name": "stdout",
     "output_type": "stream",
     "text": [
      "Alice's initial key:  [1, 0, 0, 1, 1, 0, 0, 1, 0, 1, 1, 0, 0, 1, 0, 1, 0, 0, 0, 0, 1, 1, 1, 1, 1, 0, 0, 0, 0, 0, 0, 1, 0, 1, 0, 1, 1, 0, 1, 0, 0, 0, 0, 1, 0, 0, 1, 1, 1, 0, 0, 0, 1, 0, 0, 1, 1, 0, 0, 0, 1, 0, 0, 1, 0, 0, 0, 1, 1, 0, 1, 1, 0, 0, 0, 1, 0, 0, 1, 1, 1, 0, 1, 1, 1, 0, 1, 1, 1, 0, 1, 1, 1, 0, 0, 1, 0, 1, 1, 0]\n"
     ]
    }
   ],
   "source": [
    "# 1\n",
    "alice_key = choices([0, 1], k = num_bits)\n",
    "\n",
    "print('Alice\\'s initial key: ', alice_key)"
   ]
  },
  {
   "cell_type": "code",
   "execution_count": 30,
   "metadata": {},
   "outputs": [
    {
     "name": "stdout",
     "output_type": "stream",
     "text": [
      "\n",
      "Alice's randomly chosen bases:  ['Z', 'Z', 'X', 'Z', 'X', 'Z', 'X', 'X', 'X', 'X', 'X', 'Z', 'X', 'X', 'X', 'Z', 'X', 'X', 'Z', 'X', 'Z', 'X', 'X', 'X', 'Z', 'Z', 'X', 'Z', 'X', 'Z', 'X', 'X', 'X', 'X', 'Z', 'Z', 'X', 'Z', 'Z', 'Z', 'X', 'X', 'Z', 'X', 'X', 'X', 'Z', 'Z', 'Z', 'Z', 'Z', 'Z', 'X', 'Z', 'Z', 'Z', 'Z', 'Z', 'X', 'Z', 'Z', 'Z', 'Z', 'X', 'Z', 'Z', 'Z', 'Z', 'Z', 'X', 'Z', 'Z', 'Z', 'Z', 'Z', 'Z', 'Z', 'X', 'Z', 'Z', 'Z', 'Z', 'X', 'X', 'X', 'Z', 'Z', 'Z', 'X', 'Z', 'Z', 'X', 'Z', 'X', 'Z', 'Z', 'Z', 'Z', 'X', 'Z']\n"
     ]
    }
   ],
   "source": [
    "# 2\n",
    "alice_bases = choices([\"Z\", \"X\"], k = num_bits)\n",
    "\n",
    "print('\\nAlice\\'s randomly chosen bases: ', alice_bases)"
   ]
  },
  {
   "cell_type": "code",
   "execution_count": 31,
   "metadata": {},
   "outputs": [],
   "source": [
    "# 3\n",
    "alice_circuit = cirq.Circuit()\n",
    "\n",
    "for bit in range(num_bits):\n",
    "\n",
    "  encode_value = alice_key[bit]\n",
    "  encode_gate = encode_gates[encode_value]\n",
    "\n",
    "  basis_value = alice_bases[bit]\n",
    "  basis_gate = basis_gates[basis_value]\n",
    "\n",
    "  qubit = qubits[bit]\n",
    "  alice_circuit.append(encode_gate(qubit))\n",
    "  alice_circuit.append(basis_gate(qubit))"
   ]
  },
  {
   "cell_type": "code",
   "execution_count": null,
   "metadata": {},
   "outputs": [],
   "source": [
    "# 4\n",
    "'''\n",
    "Alice sends qubits to Bob\n",
    "\n",
    "'''"
   ]
  },
  {
   "cell_type": "code",
   "execution_count": 32,
   "metadata": {},
   "outputs": [
    {
     "name": "stdout",
     "output_type": "stream",
     "text": [
      "Eve's randomly chosen bases:  ['X', 'Z', 'Z', 'Z', 'Z', 'Z', 'Z', 'Z', 'X', 'Z', 'Z', 'Z', 'Z', 'Z', 'X', 'Z', 'X', 'Z', 'X', 'X', 'X', 'X', 'Z', 'Z', 'Z', 'X', 'Z', 'X', 'X', 'Z', 'Z', 'Z', 'Z', 'X', 'X', 'Z', 'Z', 'Z', 'X', 'Z', 'Z', 'X', 'X', 'Z', 'X', 'Z', 'Z', 'Z', 'X', 'X', 'Z', 'X', 'Z', 'Z', 'X', 'Z', 'Z', 'X', 'X', 'Z', 'X', 'X', 'X', 'Z', 'X', 'X', 'X', 'Z', 'X', 'Z', 'Z', 'X', 'X', 'Z', 'Z', 'X', 'X', 'X', 'Z', 'X', 'X', 'Z', 'Z', 'Z', 'Z', 'X', 'X', 'Z', 'Z', 'Z', 'X', 'Z', 'X', 'X', 'X', 'X', 'X', 'X', 'Z', 'Z']\n"
     ]
    }
   ],
   "source": [
    "# 5 (Eve Intercepts)\n",
    "eve_bases = choices([\"Z\", \"X\"], k = num_bits)\n",
    "print('Eve\\'s randomly chosen bases: ', eve_bases)\n",
    "\n",
    "eve_circuit = cirq.Circuit()\n",
    "\n",
    "for bit in range(num_bits):\n",
    "  basis_value = eve_bases[bit]\n",
    "  basis_gate = basis_gates[basis_value]\n",
    "\n",
    "  qubit = qubits[bit]\n",
    "  eve_circuit.append(basis_gate(qubit))"
   ]
  },
  {
   "cell_type": "code",
   "execution_count": 33,
   "metadata": {},
   "outputs": [],
   "source": [
    "# 6 \n",
    "eve_circuit.append(cirq.measure(qubits, key = 'eve key'))"
   ]
  },
  {
   "cell_type": "code",
   "execution_count": 34,
   "metadata": {},
   "outputs": [
    {
     "name": "stdout",
     "output_type": "stream",
     "text": [
      "\n",
      "Eve's initial key:  [0 0 1 1 1 0 1 1 0 0 1 0 0 1 0 1 0 0 0 0 1 1 1 0 1 1 1 0 0 0 0 0 1 1 1 1 1\n",
      " 0 1 0 1 0 0 1 0 0 1 1 1 0 0 0 1 0 1 1 1 0 0 0 1 1 0 0 0 0 0 1 1 0 1 1 1 0\n",
      " 0 0 0 0 1 0 0 0 0 1 1 0 0 1 0 0 0 0 1 0 1 0 1 0 0 0]\n"
     ]
    }
   ],
   "source": [
    "# 7\n",
    "eve_intercept_circuit = alice_circuit + eve_circuit\n",
    "\n",
    "sim = cirq.Simulator()\n",
    "results = sim.run(eve_intercept_circuit)\n",
    "eve_key = results.measurements['eve key'][0]\n",
    "\n",
    "print('\\nEve\\'s initial key: ', eve_key)"
   ]
  },
  {
   "cell_type": "code",
   "execution_count": 35,
   "metadata": {},
   "outputs": [
    {
     "name": "stdout",
     "output_type": "stream",
     "text": [
      "\n",
      "Alice's Phase 1 circuit after Eve's interception:\n",
      " q0: ────I───H───\n",
      "\n",
      "q1: ────I───I───\n",
      "\n",
      "q2: ────X───I───\n",
      "\n",
      "q3: ────X───I───\n",
      "\n",
      "q4: ────X───I───\n",
      "\n",
      "q5: ────I───I───\n",
      "\n",
      "q6: ────X───I───\n",
      "\n",
      "q7: ────X───I───\n",
      "\n",
      "q8: ────I───H───\n",
      "\n",
      "q9: ────I───I───\n",
      "\n",
      "q10: ───X───I───\n",
      "\n",
      "q11: ───I───I───\n",
      "\n",
      "q12: ───I───I───\n",
      "\n",
      "q13: ───X───I───\n",
      "\n",
      "q14: ───I───H───\n",
      "\n",
      "q15: ───X───I───\n",
      "\n",
      "q16: ───I───H───\n",
      "\n",
      "q17: ───I───I───\n",
      "\n",
      "q18: ───I───H───\n",
      "\n",
      "q19: ───I───H───\n",
      "\n",
      "q20: ───X───H───\n",
      "\n",
      "q21: ───X───H───\n",
      "\n",
      "q22: ───X───I───\n",
      "\n",
      "q23: ───I───I───\n",
      "\n",
      "q24: ───X───I───\n",
      "\n",
      "q25: ───X───H───\n",
      "\n",
      "q26: ───X───I───\n",
      "\n",
      "q27: ───I───H───\n",
      "\n",
      "q28: ───I───H───\n",
      "\n",
      "q29: ───I───I───\n",
      "\n",
      "q30: ───I───I───\n",
      "\n",
      "q31: ───I───I───\n",
      "\n",
      "q32: ───X───I───\n",
      "\n",
      "q33: ───X───H───\n",
      "\n",
      "q34: ───X───H───\n",
      "\n",
      "q35: ───X───I───\n",
      "\n",
      "q36: ───X───I───\n",
      "\n",
      "q37: ───I───I───\n",
      "\n",
      "q38: ───X───H───\n",
      "\n",
      "q39: ───I───I───\n",
      "\n",
      "q40: ───X───I───\n",
      "\n",
      "q41: ───I───H───\n",
      "\n",
      "q42: ───I───H───\n",
      "\n",
      "q43: ───X───I───\n",
      "\n",
      "q44: ───I───H───\n",
      "\n",
      "q45: ───I───I───\n",
      "\n",
      "q46: ───X───I───\n",
      "\n",
      "q47: ───X───I───\n",
      "\n",
      "q48: ───X───H───\n",
      "\n",
      "q49: ───I───H───\n",
      "\n",
      "q50: ───I───I───\n",
      "\n",
      "q51: ───I───H───\n",
      "\n",
      "q52: ───X───I───\n",
      "\n",
      "q53: ───I───I───\n",
      "\n",
      "q54: ───X───H───\n",
      "\n",
      "q55: ───X───I───\n",
      "\n",
      "q56: ───X───I───\n",
      "\n",
      "q57: ───I───H───\n",
      "\n",
      "q58: ───I───H───\n",
      "\n",
      "q59: ───I───I───\n",
      "\n",
      "q60: ───X───H───\n",
      "\n",
      "q61: ───X───H───\n",
      "\n",
      "q62: ───I───H───\n",
      "\n",
      "q63: ───I───I───\n",
      "\n",
      "q64: ───I───H───\n",
      "\n",
      "q65: ───I───H───\n",
      "\n",
      "q66: ───I───H───\n",
      "\n",
      "q67: ───X───I───\n",
      "\n",
      "q68: ───X───H───\n",
      "\n",
      "q69: ───I───I───\n",
      "\n",
      "q70: ───X───I───\n",
      "\n",
      "q71: ───X───H───\n",
      "\n",
      "q72: ───X───H───\n",
      "\n",
      "q73: ───I───I───\n",
      "\n",
      "q74: ───I───I───\n",
      "\n",
      "q75: ───I───H───\n",
      "\n",
      "q76: ───I───H───\n",
      "\n",
      "q77: ───I───H───\n",
      "\n",
      "q78: ───X───I───\n",
      "\n",
      "q79: ───I───H───\n",
      "\n",
      "q80: ───I───H───\n",
      "\n",
      "q81: ───I───I───\n",
      "\n",
      "q82: ───I───I───\n",
      "\n",
      "q83: ───X───I───\n",
      "\n",
      "q84: ───X───I───\n",
      "\n",
      "q85: ───I───H───\n",
      "\n",
      "q86: ───I───H───\n",
      "\n",
      "q87: ───X───I───\n",
      "\n",
      "q88: ───I───I───\n",
      "\n",
      "q89: ───I───I───\n",
      "\n",
      "q90: ───I───H───\n",
      "\n",
      "q91: ───I───I───\n",
      "\n",
      "q92: ───X───H───\n",
      "\n",
      "q93: ───I───H───\n",
      "\n",
      "q94: ───X───H───\n",
      "\n",
      "q95: ───I───H───\n",
      "\n",
      "q96: ───X───H───\n",
      "\n",
      "q97: ───I───H───\n",
      "\n",
      "q98: ───I───I───\n",
      "\n",
      "q99: ───I───I───\n"
     ]
    }
   ],
   "source": [
    "# 8\n",
    "alice_circuit = cirq.Circuit()\n",
    "\n",
    "for bit in range(num_bits):\n",
    "\n",
    "  encode_value = eve_key[bit]\n",
    "  encode_gate = encode_gates[encode_value]\n",
    "\n",
    "  basis_value = eve_bases[bit]\n",
    "  basis_gate = basis_gates[basis_value]\n",
    "\n",
    "  qubit = qubits[bit]\n",
    "  alice_circuit.append(encode_gate(qubit))\n",
    "  alice_circuit.append(basis_gate(qubit))\n",
    "\n",
    "print('\\nAlice\\'s Phase 1 circuit after Eve\\'s interception:\\n', alice_circuit)"
   ]
  },
  {
   "cell_type": "code",
   "execution_count": 36,
   "metadata": {},
   "outputs": [],
   "source": [
    "# 9 (Bob recieves)\n",
    "bob_bases = choices([\"Z\", \"X\"], k = num_bits)\n",
    "\n",
    "\n",
    "bob_circuit = cirq.Circuit()\n",
    "\n",
    "for bit in range(num_bits):\n",
    "\n",
    "  basis_value = bob_bases[bit]\n",
    "  basis_gate = basis_gates[basis_value]\n",
    "\n",
    "  qubit = qubits[bit]\n",
    "  bob_circuit.append(basis_gate(qubit))"
   ]
  },
  {
   "cell_type": "code",
   "execution_count": 37,
   "metadata": {},
   "outputs": [
    {
     "name": "stdout",
     "output_type": "stream",
     "text": [
      "q0: ────H───M('bob key')───\n",
      "            │\n",
      "q1: ────H───M──────────────\n",
      "            │\n",
      "q2: ────H───M──────────────\n",
      "            │\n",
      "q3: ────I───M──────────────\n",
      "            │\n",
      "q4: ────I───M──────────────\n",
      "            │\n",
      "q5: ────I───M──────────────\n",
      "            │\n",
      "q6: ────H───M──────────────\n",
      "            │\n",
      "q7: ────I───M──────────────\n",
      "            │\n",
      "q8: ────H───M──────────────\n",
      "            │\n",
      "q9: ────H───M──────────────\n",
      "            │\n",
      "q10: ───H───M──────────────\n",
      "            │\n",
      "q11: ───I───M──────────────\n",
      "            │\n",
      "q12: ───H───M──────────────\n",
      "            │\n",
      "q13: ───I───M──────────────\n",
      "            │\n",
      "q14: ───I───M──────────────\n",
      "            │\n",
      "q15: ───H───M──────────────\n",
      "            │\n",
      "q16: ───H───M──────────────\n",
      "            │\n",
      "q17: ───I───M──────────────\n",
      "            │\n",
      "q18: ───I───M──────────────\n",
      "            │\n",
      "q19: ───H───M──────────────\n",
      "            │\n",
      "q20: ───I───M──────────────\n",
      "            │\n",
      "q21: ───I───M──────────────\n",
      "            │\n",
      "q22: ───H───M──────────────\n",
      "            │\n",
      "q23: ───I───M──────────────\n",
      "            │\n",
      "q24: ───I───M──────────────\n",
      "            │\n",
      "q25: ───H───M──────────────\n",
      "            │\n",
      "q26: ───H───M──────────────\n",
      "            │\n",
      "q27: ───H───M──────────────\n",
      "            │\n",
      "q28: ───I───M──────────────\n",
      "            │\n",
      "q29: ───H───M──────────────\n",
      "            │\n",
      "q30: ───I───M──────────────\n",
      "            │\n",
      "q31: ───H───M──────────────\n",
      "            │\n",
      "q32: ───I───M──────────────\n",
      "            │\n",
      "q33: ───I───M──────────────\n",
      "            │\n",
      "q34: ───I───M──────────────\n",
      "            │\n",
      "q35: ───I───M──────────────\n",
      "            │\n",
      "q36: ───I───M──────────────\n",
      "            │\n",
      "q37: ───H───M──────────────\n",
      "            │\n",
      "q38: ───I───M──────────────\n",
      "            │\n",
      "q39: ───H───M──────────────\n",
      "            │\n",
      "q40: ───I───M──────────────\n",
      "            │\n",
      "q41: ───I───M──────────────\n",
      "            │\n",
      "q42: ───H───M──────────────\n",
      "            │\n",
      "q43: ───I───M──────────────\n",
      "            │\n",
      "q44: ───H───M──────────────\n",
      "            │\n",
      "q45: ───H───M──────────────\n",
      "            │\n",
      "q46: ───H───M──────────────\n",
      "            │\n",
      "q47: ───I───M──────────────\n",
      "            │\n",
      "q48: ───H───M──────────────\n",
      "            │\n",
      "q49: ───H───M──────────────\n",
      "            │\n",
      "q50: ───I───M──────────────\n",
      "            │\n",
      "q51: ───H───M──────────────\n",
      "            │\n",
      "q52: ───H───M──────────────\n",
      "            │\n",
      "q53: ───I───M──────────────\n",
      "            │\n",
      "q54: ───H───M──────────────\n",
      "            │\n",
      "q55: ───I───M──────────────\n",
      "            │\n",
      "q56: ───I───M──────────────\n",
      "            │\n",
      "q57: ───H───M──────────────\n",
      "            │\n",
      "q58: ───I───M──────────────\n",
      "            │\n",
      "q59: ───H───M──────────────\n",
      "            │\n",
      "q60: ───H───M──────────────\n",
      "            │\n",
      "q61: ───H───M──────────────\n",
      "            │\n",
      "q62: ───H───M──────────────\n",
      "            │\n",
      "q63: ───I───M──────────────\n",
      "            │\n",
      "q64: ───I───M──────────────\n",
      "            │\n",
      "q65: ───H───M──────────────\n",
      "            │\n",
      "q66: ───H───M──────────────\n",
      "            │\n",
      "q67: ───I───M──────────────\n",
      "            │\n",
      "q68: ───I───M──────────────\n",
      "            │\n",
      "q69: ───I───M──────────────\n",
      "            │\n",
      "q70: ───H───M──────────────\n",
      "            │\n",
      "q71: ───I───M──────────────\n",
      "            │\n",
      "q72: ───H───M──────────────\n",
      "            │\n",
      "q73: ───I───M──────────────\n",
      "            │\n",
      "q74: ───H───M──────────────\n",
      "            │\n",
      "q75: ───I───M──────────────\n",
      "            │\n",
      "q76: ───H───M──────────────\n",
      "            │\n",
      "q77: ───H───M──────────────\n",
      "            │\n",
      "q78: ───I───M──────────────\n",
      "            │\n",
      "q79: ───H───M──────────────\n",
      "            │\n",
      "q80: ───H───M──────────────\n",
      "            │\n",
      "q81: ───H───M──────────────\n",
      "            │\n",
      "q82: ───H───M──────────────\n",
      "            │\n",
      "q83: ───I───M──────────────\n",
      "            │\n",
      "q84: ───H───M──────────────\n",
      "            │\n",
      "q85: ───I───M──────────────\n",
      "            │\n",
      "q86: ───I───M──────────────\n",
      "            │\n",
      "q87: ───H───M──────────────\n",
      "            │\n",
      "q88: ───H───M──────────────\n",
      "            │\n",
      "q89: ───I───M──────────────\n",
      "            │\n",
      "q90: ───I───M──────────────\n",
      "            │\n",
      "q91: ───H───M──────────────\n",
      "            │\n",
      "q92: ───I───M──────────────\n",
      "            │\n",
      "q93: ───H───M──────────────\n",
      "            │\n",
      "q94: ───H───M──────────────\n",
      "            │\n",
      "q95: ───I───M──────────────\n",
      "            │\n",
      "q96: ───H───M──────────────\n",
      "            │\n",
      "q97: ───H───M──────────────\n",
      "            │\n",
      "q98: ───H───M──────────────\n",
      "            │\n",
      "q99: ───I───M──────────────\n"
     ]
    }
   ],
   "source": [
    "# 10\n",
    "bob_circuit.append(cirq.measure(qubits, key = \"bob key\"))\n",
    "\n",
    "print(bob_circuit)"
   ]
  },
  {
   "cell_type": "code",
   "execution_count": 38,
   "metadata": {},
   "outputs": [
    {
     "name": "stdout",
     "output_type": "stream",
     "text": [
      "\n",
      "Bob's initial key:  [0 0 0 1 1 0 1 1 0 0 1 0 0 1 0 1 0 0 1 0 1 0 0 0 1 1 1 0 1 1 0 0 1 1 1 1 1\n",
      " 0 0 0 1 1 0 1 0 1 1 1 1 0 0 0 0 0 1 1 1 0 0 1 1 1 0 0 1 0 0 1 0 0 0 0 1 0\n",
      " 1 1 0 0 1 0 0 0 0 1 1 0 0 1 1 0 1 0 0 0 1 1 1 0 0 0]\n"
     ]
    }
   ],
   "source": [
    "# 11\n",
    "bb84_circuit = alice_circuit + bob_circuit\n",
    "\n",
    "sim = cirq.Simulator()\n",
    "results = sim.run(bb84_circuit)\n",
    "bob_key = results.measurements['bob key'][0]\n",
    "\n",
    "print('\\nBob\\'s initial key: ', bob_key)"
   ]
  },
  {
   "cell_type": "code",
   "execution_count": 39,
   "metadata": {},
   "outputs": [
    {
     "name": "stdout",
     "output_type": "stream",
     "text": [
      "\n",
      "Alice's key:  [0, 1, 0, 0, 0, 1, 1, 0, 0, 0, 0, 0, 1, 1, 1, 0, 1, 0, 1, 1, 0, 0, 1, 0, 1, 0, 1, 1, 0, 1, 1, 1, 0, 1, 0, 1, 1, 1, 0, 1, 1, 0, 1, 1, 1, 0, 1, 1, 0]\n",
      "Bob's key:  [0, 1, 0, 1, 0, 0, 1, 0, 0, 0, 1, 0, 1, 0, 1, 1, 0, 1, 1, 0, 0, 1, 1, 0, 0, 0, 1, 1, 1, 1, 0, 0, 0, 1, 0, 1, 0, 1, 0, 0, 1, 0, 1, 0, 0, 0, 1, 0, 0]\n",
      "Eve's key:  [1, 1, 0, 1, 0, 0, 1, 0, 0, 0, 0, 0, 1, 1, 1, 1, 0, 1, 1, 1, 0, 0, 1, 0, 1, 0, 1, 1, 0, 1, 1, 1, 0, 0, 0, 1, 0, 1, 0, 0, 0, 0, 0, 0, 1, 0, 0, 0, 0]\n"
     ]
    }
   ],
   "source": [
    "# 12\n",
    "final_alice_key = []\n",
    "final_bob_key = []\n",
    "final_eve_key = []\n",
    "\n",
    "for bit in range(num_bits):\n",
    "\n",
    "  if alice_bases[bit] == bob_bases[bit]:\n",
    "    final_alice_key.append(alice_key[bit])\n",
    "    final_bob_key.append(bob_key[bit])\n",
    "    final_eve_key.append(eve_key[bit])\n",
    "\n",
    "print('\\nAlice\\'s key: ', final_alice_key)\n",
    "print('Bob\\'s key: ', final_bob_key)\n",
    "print('Eve\\'s key: ', final_eve_key)"
   ]
  },
  {
   "cell_type": "code",
   "execution_count": 40,
   "metadata": {},
   "outputs": [
    {
     "name": "stdout",
     "output_type": "stream",
     "text": [
      "\n",
      "\n",
      "Eve was listening, we need to use a different channel!\n"
     ]
    }
   ],
   "source": [
    "# 13\n",
    "num_bits_to_compare = int(len(final_alice_key) * .5)\n",
    "if final_alice_key[0:num_bits_to_compare] == final_bob_key[0:num_bits_to_compare]:\n",
    "  final_alice_key = final_alice_key[num_bits_to_compare:]\n",
    "  final_bob_key = final_bob_key[num_bits_to_compare:]\n",
    "  final_eve_key = final_eve_key[num_bits_to_compare:]\n",
    "\n",
    "  print('\\n\\nWe can use our keys!')\n",
    "  print('Alice Key: ', final_alice_key)\n",
    "  print('Bob Key: ', final_bob_key)\n",
    "  print('Eve Key: ', final_eve_key)\n",
    "\n",
    "else:\n",
    "  print('\\n\\nEve was listening, we need to use a different channel!')"
   ]
  },
  {
   "cell_type": "markdown",
   "metadata": {},
   "source": [
    "~Part 4~ Alice, Bob, and Eve's Entanglement Attack\n",
    "------------------------\n",
    "-Phase 1\n",
    "\n",
    "1. Alice randomly chooses Bits\n",
    "2. Alice randomly chooses Bases\n",
    "3. Alice creates Qubits\n",
    "4. Alice sends qubits to Bob\n",
    "\n",
    "-Eve intercepts\n",
    "\n",
    "5. Eve randomly entagles her qubits\n",
    "\n",
    "-Phase 2\n",
    "\n",
    "6. Bob randomly Chooses Bases\n",
    "7. Bob measures the qubits\n",
    "8. Bob creates a key\n",
    "\n",
    "-Phase 3\n",
    "\n",
    "9. Alice and Bob compare Bases\n",
    "10. Alice and Bob compare the first bits in their key\n"
   ]
  },
  {
   "cell_type": "code",
   "execution_count": 53,
   "metadata": {},
   "outputs": [],
   "source": [
    "#Initialization\n",
    "encode_gates = {0: cirq.I, 1: cirq.X}\n",
    "basis_gates = {\"Z\": cirq.I, \"X\": cirq.H}\n",
    "\n",
    "num_bits = 30\n",
    "qubits = cirq.NamedQubit.range(num_bits, prefix = 'q')"
   ]
  },
  {
   "cell_type": "code",
   "execution_count": 54,
   "metadata": {},
   "outputs": [
    {
     "name": "stdout",
     "output_type": "stream",
     "text": [
      "Alice's initial key:  [0, 0, 1, 0, 0, 0, 0, 0, 1, 1, 1, 1, 0, 1, 1, 0, 1, 1, 0, 0, 1, 1, 0, 1, 1, 1, 0, 1, 0, 1]\n"
     ]
    }
   ],
   "source": [
    "# 1\n",
    "alice_key = choices([0, 1], k = num_bits)\n",
    "\n",
    "print('Alice\\'s initial key: ', alice_key)"
   ]
  },
  {
   "cell_type": "code",
   "execution_count": 55,
   "metadata": {},
   "outputs": [
    {
     "name": "stdout",
     "output_type": "stream",
     "text": [
      "\n",
      "Alice's randomly chosen bases:  ['Z', 'X', 'X', 'Z', 'Z', 'Z', 'X', 'Z', 'X', 'Z', 'X', 'Z', 'X', 'X', 'X', 'Z', 'Z', 'Z', 'X', 'Z', 'X', 'X', 'X', 'Z', 'Z', 'Z', 'Z', 'X', 'Z', 'Z']\n"
     ]
    }
   ],
   "source": [
    "# 2\n",
    "alice_bases = choices([\"Z\", \"X\"], k = num_bits)\n",
    "\n",
    "print('\\nAlice\\'s randomly chosen bases: ', alice_bases)"
   ]
  },
  {
   "cell_type": "code",
   "execution_count": 56,
   "metadata": {},
   "outputs": [],
   "source": [
    "# 3\n",
    "alice_circuit = cirq.Circuit()\n",
    "\n",
    "for bit in range(num_bits):\n",
    "\n",
    "  encode_value = alice_key[bit]\n",
    "  encode_gate = encode_gates[encode_value]\n",
    "\n",
    "  basis_value = alice_bases[bit]\n",
    "  basis_gate = basis_gates[basis_value]\n",
    "\n",
    "  qubit = qubits[bit]\n",
    "  alice_circuit.append(encode_gate(qubit))\n",
    "  alice_circuit.append(basis_gate(qubit))"
   ]
  },
  {
   "cell_type": "code",
   "execution_count": null,
   "metadata": {},
   "outputs": [],
   "source": [
    "# 4\n",
    "'''\n",
    "Sends qubits to Bob\n",
    "\n",
    "'''"
   ]
  },
  {
   "cell_type": "code",
   "execution_count": 57,
   "metadata": {},
   "outputs": [],
   "source": [
    "# 5 (Eve Intercepts)\n",
    "eve_qubits = cirq.NamedQubit.range(num_bits, prefix = 'e')\n",
    "\n",
    "for bit in range(num_bits):\n",
    "\n",
    "  qubit = qubits[bit]\n",
    "  eve_qubit = eve_qubits[bit]\n",
    "\n",
    "  alice_circuit.append(cirq.CNOT(qubit, eve_qubit))"
   ]
  },
  {
   "cell_type": "code",
   "execution_count": 58,
   "metadata": {},
   "outputs": [
    {
     "name": "stdout",
     "output_type": "stream",
     "text": [
      "                ┌──────────────────────────────┐\n",
      "e0: ─────────────X─────────────────────────────────\n",
      "                 │\n",
      "e1: ─────────────┼X────────────────────────────────\n",
      "                 ││\n",
      "e2: ─────────────┼┼X───────────────────────────────\n",
      "                 │││\n",
      "e3: ─────────────┼┼┼X──────────────────────────────\n",
      "                 ││││\n",
      "e4: ─────────────┼┼┼┼X─────────────────────────────\n",
      "                 │││││\n",
      "e5: ─────────────┼┼┼┼┼X────────────────────────────\n",
      "                 ││││││\n",
      "e6: ─────────────┼┼┼┼┼┼X───────────────────────────\n",
      "                 │││││││\n",
      "e7: ─────────────┼┼┼┼┼┼┼X──────────────────────────\n",
      "                 ││││││││\n",
      "e8: ─────────────┼┼┼┼┼┼┼┼X─────────────────────────\n",
      "                 │││││││││\n",
      "e9: ─────────────┼┼┼┼┼┼┼┼┼X────────────────────────\n",
      "                 ││││││││││\n",
      "e10: ────────────┼┼┼┼┼┼┼┼┼┼X───────────────────────\n",
      "                 │││││││││││\n",
      "e11: ────────────┼┼┼┼┼┼┼┼┼┼┼X──────────────────────\n",
      "                 ││││││││││││\n",
      "e12: ────────────┼┼┼┼┼┼┼┼┼┼┼┼X─────────────────────\n",
      "                 │││││││││││││\n",
      "e13: ────────────┼┼┼┼┼┼┼┼┼┼┼┼┼X────────────────────\n",
      "                 ││││││││││││││\n",
      "e14: ────────────┼┼┼┼┼┼┼┼┼┼┼┼┼┼X───────────────────\n",
      "                 │││││││││││││││\n",
      "e15: ────────────┼┼┼┼┼┼┼┼┼┼┼┼┼┼┼X──────────────────\n",
      "                 ││││││││││││││││\n",
      "e16: ────────────┼┼┼┼┼┼┼┼┼┼┼┼┼┼┼┼X─────────────────\n",
      "                 │││││││││││││││││\n",
      "e17: ────────────┼┼┼┼┼┼┼┼┼┼┼┼┼┼┼┼┼X────────────────\n",
      "                 ││││││││││││││││││\n",
      "e18: ────────────┼┼┼┼┼┼┼┼┼┼┼┼┼┼┼┼┼┼X───────────────\n",
      "                 │││││││││││││││││││\n",
      "e19: ────────────┼┼┼┼┼┼┼┼┼┼┼┼┼┼┼┼┼┼┼X──────────────\n",
      "                 ││││││││││││││││││││\n",
      "e20: ────────────┼┼┼┼┼┼┼┼┼┼┼┼┼┼┼┼┼┼┼┼X─────────────\n",
      "                 │││││││││││││││││││││\n",
      "e21: ────────────┼┼┼┼┼┼┼┼┼┼┼┼┼┼┼┼┼┼┼┼┼X────────────\n",
      "                 ││││││││││││││││││││││\n",
      "e22: ────────────┼┼┼┼┼┼┼┼┼┼┼┼┼┼┼┼┼┼┼┼┼┼X───────────\n",
      "                 │││││││││││││││││││││││\n",
      "e23: ────────────┼┼┼┼┼┼┼┼┼┼┼┼┼┼┼┼┼┼┼┼┼┼┼X──────────\n",
      "                 ││││││││││││││││││││││││\n",
      "e24: ────────────┼┼┼┼┼┼┼┼┼┼┼┼┼┼┼┼┼┼┼┼┼┼┼┼X─────────\n",
      "                 │││││││││││││││││││││││││\n",
      "e25: ────────────┼┼┼┼┼┼┼┼┼┼┼┼┼┼┼┼┼┼┼┼┼┼┼┼┼X────────\n",
      "                 ││││││││││││││││││││││││││\n",
      "e26: ────────────┼┼┼┼┼┼┼┼┼┼┼┼┼┼┼┼┼┼┼┼┼┼┼┼┼┼X───────\n",
      "                 │││││││││││││││││││││││││││\n",
      "e27: ────────────┼┼┼┼┼┼┼┼┼┼┼┼┼┼┼┼┼┼┼┼┼┼┼┼┼┼┼X──────\n",
      "                 ││││││││││││││││││││││││││││\n",
      "e28: ────────────┼┼┼┼┼┼┼┼┼┼┼┼┼┼┼┼┼┼┼┼┼┼┼┼┼┼┼┼X─────\n",
      "                 │││││││││││││││││││││││││││││\n",
      "e29: ────────────┼┼┼┼┼┼┼┼┼┼┼┼┼┼┼┼┼┼┼┼┼┼┼┼┼┼┼┼┼X────\n",
      "                 ││││││││││││││││││││││││││││││\n",
      "q0: ────I───I────@┼┼┼┼┼┼┼┼┼┼┼┼┼┼┼┼┼┼┼┼┼┼┼┼┼┼┼┼┼────\n",
      "                  │││││││││││││││││││││││││││││\n",
      "q1: ────I───H─────@┼┼┼┼┼┼┼┼┼┼┼┼┼┼┼┼┼┼┼┼┼┼┼┼┼┼┼┼────\n",
      "                   ││││││││││││││││││││││││││││\n",
      "q2: ────X───H──────@┼┼┼┼┼┼┼┼┼┼┼┼┼┼┼┼┼┼┼┼┼┼┼┼┼┼┼────\n",
      "                    │││││││││││││││││││││││││││\n",
      "q3: ────I───I───────@┼┼┼┼┼┼┼┼┼┼┼┼┼┼┼┼┼┼┼┼┼┼┼┼┼┼────\n",
      "                     ││││││││││││││││││││││││││\n",
      "q4: ────I───I────────@┼┼┼┼┼┼┼┼┼┼┼┼┼┼┼┼┼┼┼┼┼┼┼┼┼────\n",
      "                      │││││││││││││││││││││││││\n",
      "q5: ────I───I─────────@┼┼┼┼┼┼┼┼┼┼┼┼┼┼┼┼┼┼┼┼┼┼┼┼────\n",
      "                       ││││││││││││││││││││││││\n",
      "q6: ────I───H──────────@┼┼┼┼┼┼┼┼┼┼┼┼┼┼┼┼┼┼┼┼┼┼┼────\n",
      "                        │││││││││││││││││││││││\n",
      "q7: ────I───I───────────@┼┼┼┼┼┼┼┼┼┼┼┼┼┼┼┼┼┼┼┼┼┼────\n",
      "                         ││││││││││││││││││││││\n",
      "q8: ────X───H────────────@┼┼┼┼┼┼┼┼┼┼┼┼┼┼┼┼┼┼┼┼┼────\n",
      "                          │││││││││││││││││││││\n",
      "q9: ────X───I─────────────@┼┼┼┼┼┼┼┼┼┼┼┼┼┼┼┼┼┼┼┼────\n",
      "                           ││││││││││││││││││││\n",
      "q10: ───X───H──────────────@┼┼┼┼┼┼┼┼┼┼┼┼┼┼┼┼┼┼┼────\n",
      "                            │││││││││││││││││││\n",
      "q11: ───X───I───────────────@┼┼┼┼┼┼┼┼┼┼┼┼┼┼┼┼┼┼────\n",
      "                             ││││││││││││││││││\n",
      "q12: ───I───H────────────────@┼┼┼┼┼┼┼┼┼┼┼┼┼┼┼┼┼────\n",
      "                              │││││││││││││││││\n",
      "q13: ───X───H─────────────────@┼┼┼┼┼┼┼┼┼┼┼┼┼┼┼┼────\n",
      "                               ││││││││││││││││\n",
      "q14: ───X───H──────────────────@┼┼┼┼┼┼┼┼┼┼┼┼┼┼┼────\n",
      "                                │││││││││││││││\n",
      "q15: ───I───I───────────────────@┼┼┼┼┼┼┼┼┼┼┼┼┼┼────\n",
      "                                 ││││││││││││││\n",
      "q16: ───X───I────────────────────@┼┼┼┼┼┼┼┼┼┼┼┼┼────\n",
      "                                  │││││││││││││\n",
      "q17: ───X───I─────────────────────@┼┼┼┼┼┼┼┼┼┼┼┼────\n",
      "                                   ││││││││││││\n",
      "q18: ───I───H──────────────────────@┼┼┼┼┼┼┼┼┼┼┼────\n",
      "                                    │││││││││││\n",
      "q19: ───I───I───────────────────────@┼┼┼┼┼┼┼┼┼┼────\n",
      "                                     ││││││││││\n",
      "q20: ───X───H────────────────────────@┼┼┼┼┼┼┼┼┼────\n",
      "                                      │││││││││\n",
      "q21: ───X───H─────────────────────────@┼┼┼┼┼┼┼┼────\n",
      "                                       ││││││││\n",
      "q22: ───I───H──────────────────────────@┼┼┼┼┼┼┼────\n",
      "                                        │││││││\n",
      "q23: ───X───I───────────────────────────@┼┼┼┼┼┼────\n",
      "                                         ││││││\n",
      "q24: ───X───I────────────────────────────@┼┼┼┼┼────\n",
      "                                          │││││\n",
      "q25: ───X───I─────────────────────────────@┼┼┼┼────\n",
      "                                           ││││\n",
      "q26: ───I───I──────────────────────────────@┼┼┼────\n",
      "                                            │││\n",
      "q27: ───X───H───────────────────────────────@┼┼────\n",
      "                                             ││\n",
      "q28: ───I───I────────────────────────────────@┼────\n",
      "                                              │\n",
      "q29: ───X───I─────────────────────────────────@────\n",
      "                └──────────────────────────────┘\n"
     ]
    }
   ],
   "source": [
    "print(alice_circuit)"
   ]
  },
  {
   "cell_type": "code",
   "execution_count": 59,
   "metadata": {},
   "outputs": [
    {
     "name": "stdout",
     "output_type": "stream",
     "text": [
      "Bob's randomly chosen bases:  ['X', 'X', 'X', 'Z', 'Z', 'X', 'Z', 'Z', 'Z', 'Z', 'Z', 'X', 'X', 'X', 'X', 'Z', 'Z', 'X', 'Z', 'Z', 'Z', 'X', 'Z', 'Z', 'Z', 'X', 'Z', 'X', 'X', 'Z']\n"
     ]
    }
   ],
   "source": [
    "# 6 (Bob Recieves)\n",
    "bob_bases = choices([\"Z\", \"X\"], k = num_bits)\n",
    "print('Bob\\'s randomly chosen bases: ', bob_bases)\n",
    "\n",
    "bob_circuit = cirq.Circuit()\n",
    "\n",
    "for bit in range(num_bits):\n",
    "\n",
    "  basis_value = bob_bases[bit]\n",
    "  basis_gate = basis_gates[basis_value]\n",
    "\n",
    "  qubit = qubits[bit]\n",
    "  bob_circuit.append(basis_gate(qubit))"
   ]
  },
  {
   "cell_type": "code",
   "execution_count": 60,
   "metadata": {},
   "outputs": [
    {
     "name": "stdout",
     "output_type": "stream",
     "text": [
      "q0: ────H───M('bob key')───\n",
      "            │\n",
      "q1: ────H───M──────────────\n",
      "            │\n",
      "q2: ────H───M──────────────\n",
      "            │\n",
      "q3: ────I───M──────────────\n",
      "            │\n",
      "q4: ────I───M──────────────\n",
      "            │\n",
      "q5: ────H───M──────────────\n",
      "            │\n",
      "q6: ────I───M──────────────\n",
      "            │\n",
      "q7: ────I───M──────────────\n",
      "            │\n",
      "q8: ────I───M──────────────\n",
      "            │\n",
      "q9: ────I───M──────────────\n",
      "            │\n",
      "q10: ───I───M──────────────\n",
      "            │\n",
      "q11: ───H───M──────────────\n",
      "            │\n",
      "q12: ───H───M──────────────\n",
      "            │\n",
      "q13: ───H───M──────────────\n",
      "            │\n",
      "q14: ───H───M──────────────\n",
      "            │\n",
      "q15: ───I───M──────────────\n",
      "            │\n",
      "q16: ───I───M──────────────\n",
      "            │\n",
      "q17: ───H───M──────────────\n",
      "            │\n",
      "q18: ───I───M──────────────\n",
      "            │\n",
      "q19: ───I───M──────────────\n",
      "            │\n",
      "q20: ───I───M──────────────\n",
      "            │\n",
      "q21: ───H───M──────────────\n",
      "            │\n",
      "q22: ───I───M──────────────\n",
      "            │\n",
      "q23: ───I───M──────────────\n",
      "            │\n",
      "q24: ───I───M──────────────\n",
      "            │\n",
      "q25: ───H───M──────────────\n",
      "            │\n",
      "q26: ───I───M──────────────\n",
      "            │\n",
      "q27: ───H───M──────────────\n",
      "            │\n",
      "q28: ───H───M──────────────\n",
      "            │\n",
      "q29: ───I───M──────────────\n"
     ]
    }
   ],
   "source": [
    "# 7\n",
    "bob_circuit.append(cirq.measure(qubits, key = \"bob key\"))\n",
    "\n",
    "print(bob_circuit)"
   ]
  },
  {
   "cell_type": "code",
   "execution_count": 61,
   "metadata": {},
   "outputs": [
    {
     "name": "stdout",
     "output_type": "stream",
     "text": [
      "\n",
      "Bob's initial key:  [1 0 0 0 0 1 1 0 1 1 0 0 0 0 0 0 1 1 1 0 0 1 1 1 1 0 0 0 1 1]\n"
     ]
    }
   ],
   "source": [
    "# 8\n",
    "bb84_circuit = alice_circuit + bob_circuit\n",
    "\n",
    "sim = cirq.Simulator()\n",
    "results = sim.run(bb84_circuit)\n",
    "bob_key = results.measurements['bob key'][0]\n",
    "\n",
    "print('\\nBob\\'s initial key: ', bob_key)"
   ]
  },
  {
   "cell_type": "code",
   "execution_count": 62,
   "metadata": {},
   "outputs": [],
   "source": [
    "# 9\n",
    "final_alice_key = []\n",
    "final_bob_key = []\n",
    "final_eve_key = []\n",
    "\n",
    "for bit in range(num_bits):\n",
    "\n",
    "  if alice_bases[bit] == bob_bases[bit]:\n",
    "    final_alice_key.append(alice_key[bit])\n",
    "    final_bob_key.append(bob_key[bit])\n",
    "    final_eve_key.append(eve_key[bit])"
   ]
  },
  {
   "cell_type": "code",
   "execution_count": 63,
   "metadata": {},
   "outputs": [
    {
     "name": "stdout",
     "output_type": "stream",
     "text": [
      "\n",
      "Alice's key:  [0, 1, 0, 0, 0, 1, 0, 1, 1, 0, 1, 0, 1, 1, 1, 0, 1, 1]\n",
      "Bob's key:  [0, 0, 0, 0, 0, 1, 0, 0, 0, 0, 1, 0, 1, 1, 1, 0, 0, 1]\n",
      "Eve's key:  [0, 1, 1, 1, 1, 0, 0, 1, 0, 1, 0, 0, 1, 0, 1, 1, 0, 0, 1]\n"
     ]
    }
   ],
   "source": [
    "basis_value = bob_bases[bit]\n",
    "basis_gate = basis_gates[basis_value]\n",
    "\n",
    "qubit = eve_qubits[bit]\n",
    "bb84_circuit.append(basis_gate(qubit))\n",
    "bb84_circuit.append(cirq.measure(qubit))\n",
    "\n",
    "sim = cirq.Simulator()\n",
    "results = sim.run(bb84_circuit)\n",
    "\n",
    "final_eve_key.append(results.measurements['e' + str(bit)][0][0])\n",
    "\n",
    "print('\\nAlice\\'s key: ', final_alice_key)\n",
    "print('Bob\\'s key: ', final_bob_key)\n",
    "print('Eve\\'s key: ', final_eve_key)"
   ]
  },
  {
   "cell_type": "code",
   "execution_count": 64,
   "metadata": {},
   "outputs": [
    {
     "name": "stdout",
     "output_type": "stream",
     "text": [
      "\n",
      "\n",
      "Eve was listening, we need to use a different channel!\n"
     ]
    }
   ],
   "source": [
    "# 10\n",
    "num_bits_to_compare = int(len(final_alice_key) * .5)\n",
    "if final_alice_key[0:num_bits_to_compare] == final_bob_key[0:num_bits_to_compare]:\n",
    "  final_alice_key = final_alice_key[num_bits_to_compare:]\n",
    "  final_bob_key = final_bob_key[num_bits_to_compare:]\n",
    "  final_eve_key = final_eve_key[num_bits_to_compare:]\n",
    "\n",
    "  print('\\n\\nWe can use our keys!')\n",
    "  print('Alice Key: ', final_alice_key)\n",
    "  print('Bob Key: ', final_bob_key)\n",
    "  print('Eve Key: ', final_eve_key)\n",
    "\n",
    "else:\n",
    "  print('\\n\\nEve was listening, we need to use a different channel!')"
   ]
  }
 ],
 "metadata": {
  "kernelspec": {
   "display_name": "Python 3",
   "language": "python",
   "name": "python3"
  },
  "language_info": {
   "codemirror_mode": {
    "name": "ipython",
    "version": 3
   },
   "file_extension": ".py",
   "mimetype": "text/x-python",
   "name": "python",
   "nbconvert_exporter": "python",
   "pygments_lexer": "ipython3",
   "version": "3.11.5"
  }
 },
 "nbformat": 4,
 "nbformat_minor": 2
}
